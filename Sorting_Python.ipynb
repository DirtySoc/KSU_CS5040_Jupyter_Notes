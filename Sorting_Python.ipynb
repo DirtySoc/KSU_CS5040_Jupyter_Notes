{
 "cells": [
  {
   "cell_type": "markdown",
   "metadata": {},
   "source": [
    "# Simple Sorting Algorithms O(n^2)"
   ]
  },
  {
   "cell_type": "code",
   "execution_count": 1,
   "metadata": {},
   "outputs": [],
   "source": [
    "import random\n",
    "import timeit\n",
    "\n",
    "def initData(maxSize=10, numElems=5):\n",
    "    return [random.randint(0, maxSize) for r in range(numElems)]\n",
    "\n",
    "testSize = 1000\n",
    "timesToRun = 1000"
   ]
  },
  {
   "cell_type": "code",
   "execution_count": 2,
   "metadata": {},
   "outputs": [],
   "source": [
    "#Bubble Sort - Performance func = (3/4)*((n^2)-n)\n",
    "def bubbleSort (printToScreen=True):\n",
    "    if printToScreen:\n",
    "        data = initData()\n",
    "        print(data)\n",
    "    else:\n",
    "        data = initData(1000, testSize)\n",
    "        \n",
    "    n = len(data)\n",
    "    # For every element in the array,\n",
    "    for i in range(n):\n",
    "        # The last i elements are already sorted\n",
    "        for j in range(0, n-i-1):\n",
    "            # If the element found is greater than the next element\n",
    "            # swap it.\n",
    "            if data[j] > data[j+1]:\n",
    "                data[j], data[j+1] = data[j+1], data[j]   \n",
    "            if printToScreen: print('i:' + str(i) + ' j:'+ str(j) + ' data: ' + str(data))"
   ]
  },
  {
   "cell_type": "code",
   "execution_count": 3,
   "metadata": {},
   "outputs": [
    {
     "name": "stdout",
     "output_type": "stream",
     "text": [
      "[0, 4, 2, 6, 3]\n",
      "i:0 j:0 data: [0, 4, 2, 6, 3]\n",
      "i:0 j:1 data: [0, 2, 4, 6, 3]\n",
      "i:0 j:2 data: [0, 2, 4, 6, 3]\n",
      "i:0 j:3 data: [0, 2, 4, 3, 6]\n",
      "i:1 j:0 data: [0, 2, 4, 3, 6]\n",
      "i:1 j:1 data: [0, 2, 4, 3, 6]\n",
      "i:1 j:2 data: [0, 2, 3, 4, 6]\n",
      "i:2 j:0 data: [0, 2, 3, 4, 6]\n",
      "i:2 j:1 data: [0, 2, 3, 4, 6]\n",
      "i:3 j:0 data: [0, 2, 3, 4, 6]\n"
     ]
    }
   ],
   "source": [
    "# See the algorithm work\n",
    "bubbleSort()"
   ]
  },
  {
   "cell_type": "code",
   "execution_count": 4,
   "metadata": {},
   "outputs": [
    {
     "name": "stdout",
     "output_type": "stream",
     "text": [
      "Exec time: 0.0933805883s\n"
     ]
    }
   ],
   "source": [
    "# Test execution time\n",
    "bubbleSortTime = timeit.Timer('bubbleSort(False)', globals=globals()).timeit(timesToRun) / timesToRun\n",
    "print('Exec time: ' + str(bubbleSortTime) + 's')"
   ]
  },
  {
   "cell_type": "code",
   "execution_count": 5,
   "metadata": {},
   "outputs": [],
   "source": [
    "#Insertion Sort - Performance func = (1/2)*((n^2)-1)\n",
    "def insertionSort(printToScreen=True):\n",
    "    if printToScreen:\n",
    "        data = initData()\n",
    "        print(data)\n",
    "    else:\n",
    "        data = initData(1000, testSize)\n",
    "        \n",
    "    i = 1\n",
    "    while i < len(data):\n",
    "        j = i\n",
    "        while j > 0:\n",
    "            if data[j-1] > data[j]:\n",
    "                data[j], data[j-1] = data[j-1], data[j]\n",
    "            j = j - 1\n",
    "            if printToScreen: print('i:' + str(i) + ' j:' + str(j) + ' data: ' + str(data))\n",
    "        i = i + 1\n",
    "                "
   ]
  },
  {
   "cell_type": "code",
   "execution_count": 6,
   "metadata": {},
   "outputs": [
    {
     "name": "stdout",
     "output_type": "stream",
     "text": [
      "[2, 10, 10, 5, 6]\n",
      "i:1 j:0 data: [2, 10, 10, 5, 6]\n",
      "i:2 j:1 data: [2, 10, 10, 5, 6]\n",
      "i:2 j:0 data: [2, 10, 10, 5, 6]\n",
      "i:3 j:2 data: [2, 10, 5, 10, 6]\n",
      "i:3 j:1 data: [2, 5, 10, 10, 6]\n",
      "i:3 j:0 data: [2, 5, 10, 10, 6]\n",
      "i:4 j:3 data: [2, 5, 10, 6, 10]\n",
      "i:4 j:2 data: [2, 5, 6, 10, 10]\n",
      "i:4 j:1 data: [2, 5, 6, 10, 10]\n",
      "i:4 j:0 data: [2, 5, 6, 10, 10]\n"
     ]
    }
   ],
   "source": [
    "# See the algorithm work\n",
    "insertionSort()"
   ]
  },
  {
   "cell_type": "code",
   "execution_count": 7,
   "metadata": {},
   "outputs": [
    {
     "name": "stdout",
     "output_type": "stream",
     "text": [
      "Exec time: 0.10460354349999999s\n"
     ]
    }
   ],
   "source": [
    "# Test execution time\n",
    "insertionSortTime = timeit.Timer('insertionSort(False)', globals=globals()).timeit(timesToRun) / timesToRun\n",
    "print('Exec time: ' + str(insertionSortTime) + 's')"
   ]
  },
  {
   "cell_type": "code",
   "execution_count": 8,
   "metadata": {},
   "outputs": [],
   "source": [
    "# Selection Sort - Performance func = (3/4)*((n^2)-n)\n",
    "def selectionSort(printToScreen=True):\n",
    "    if printToScreen:\n",
    "        data = initData()\n",
    "        print(data)\n",
    "    else:\n",
    "        data = initData(1000, testSize)\n",
    "    for i in range(len(data)):\n",
    "        for j in range(i+1, len(data)):\n",
    "            if data[j] < data[i]:\n",
    "                data[j], data[i] = data[i], data[j]\n",
    "            if printToScreen: print('i:' + str(i) + ' j:' + str(j) + ' data: ' + str(data))\n",
    "            "
   ]
  },
  {
   "cell_type": "code",
   "execution_count": 9,
   "metadata": {
    "scrolled": true
   },
   "outputs": [
    {
     "name": "stdout",
     "output_type": "stream",
     "text": [
      "[10, 10, 2, 5, 7]\n",
      "i:0 j:1 data: [10, 10, 2, 5, 7]\n",
      "i:0 j:2 data: [2, 10, 10, 5, 7]\n",
      "i:0 j:3 data: [2, 10, 10, 5, 7]\n",
      "i:0 j:4 data: [2, 10, 10, 5, 7]\n",
      "i:1 j:2 data: [2, 10, 10, 5, 7]\n",
      "i:1 j:3 data: [2, 5, 10, 10, 7]\n",
      "i:1 j:4 data: [2, 5, 10, 10, 7]\n",
      "i:2 j:3 data: [2, 5, 10, 10, 7]\n",
      "i:2 j:4 data: [2, 5, 7, 10, 10]\n",
      "i:3 j:4 data: [2, 5, 7, 10, 10]\n"
     ]
    }
   ],
   "source": [
    "# See the algorithm work\n",
    "selectionSort()"
   ]
  },
  {
   "cell_type": "code",
   "execution_count": 10,
   "metadata": {},
   "outputs": [
    {
     "name": "stdout",
     "output_type": "stream",
     "text": [
      "Exec time: 0.0538322178s\n"
     ]
    }
   ],
   "source": [
    "# Test execution time\n",
    "selectionSortTime = timeit.Timer('selectionSort(False)', globals=globals()).timeit(timesToRun) / timesToRun\n",
    "print('Exec time: ' + str(selectionSortTime) + 's')"
   ]
  },
  {
   "cell_type": "markdown",
   "metadata": {},
   "source": [
    "The above works, but can be improved! Currently the algorithm may swap more than once with the selected data if it finds another smaller number."
   ]
  },
  {
   "cell_type": "code",
   "execution_count": 11,
   "metadata": {},
   "outputs": [],
   "source": [
    "# Improved Selection Sort - Performance func = (1/2)*((n^2)-1)\n",
    "def improvedSelectionSort(printToScreen=True):\n",
    "    if printToScreen:\n",
    "        data = initData()\n",
    "        print(data)\n",
    "    else:\n",
    "        data = initData(1000, testSize)\n",
    "        \n",
    "    for i in range(len(data)):\n",
    "        position = i\n",
    "        for j in range(i+1, len(data)):\n",
    "            if data[j] < data[i]:\n",
    "                position = j # remember the position to swap.\n",
    "        data[position], data[i] = data[i], data[position] # perform the swap once.\n",
    "        if printToScreen: print('i:' + str(i) + ' j:' + str(j) + ' data: ' + str(data))"
   ]
  },
  {
   "cell_type": "code",
   "execution_count": 12,
   "metadata": {},
   "outputs": [
    {
     "name": "stdout",
     "output_type": "stream",
     "text": [
      "[0, 0, 7, 3, 7]\n",
      "i:0 j:4 data: [0, 0, 7, 3, 7]\n",
      "i:1 j:4 data: [0, 0, 7, 3, 7]\n",
      "i:2 j:4 data: [0, 0, 3, 7, 7]\n",
      "i:3 j:4 data: [0, 0, 3, 7, 7]\n",
      "i:4 j:4 data: [0, 0, 3, 7, 7]\n"
     ]
    }
   ],
   "source": [
    "# See the algorithm work\n",
    "improvedSelectionSort()"
   ]
  },
  {
   "cell_type": "code",
   "execution_count": 13,
   "metadata": {},
   "outputs": [
    {
     "name": "stdout",
     "output_type": "stream",
     "text": [
      "Exec time: 0.036705218699999986s\n"
     ]
    }
   ],
   "source": [
    "# Test execution time\n",
    "improvedSelectionSortTime = timeit.Timer('improvedSelectionSort(False)', globals=globals()).timeit(timesToRun) / timesToRun\n",
    "print('Exec time: ' + str(improvedSelectionSortTime) + 's')"
   ]
  },
  {
   "cell_type": "code",
   "execution_count": 14,
   "metadata": {},
   "outputs": [
    {
     "name": "stdout",
     "output_type": "stream",
     "text": [
      "Bubble Sort: 0.0933805883\n",
      "Insertion Sort: 0.10460354349999999\n",
      "Selection Sort: 0.0538322178\n",
      "Improved Selection Sort: 0.036705218699999986\n"
     ]
    }
   ],
   "source": [
    "# Summary\n",
    "print('Bubble Sort: ' + str(bubbleSortTime))\n",
    "print('Insertion Sort: ' + str(insertionSortTime))\n",
    "print('Selection Sort: ' + str(selectionSortTime))\n",
    "print('Improved Selection Sort: ' + str(improvedSelectionSortTime))"
   ]
  },
  {
   "cell_type": "markdown",
   "metadata": {},
   "source": [
    "# Advanced Sorting Algorithms O(n*Log(n))"
   ]
  },
  {
   "cell_type": "code",
   "execution_count": 15,
   "metadata": {},
   "outputs": [],
   "source": [
    "#"
   ]
  }
 ],
 "metadata": {
  "kernelspec": {
   "display_name": "Python 3",
   "language": "python",
   "name": "python3"
  },
  "language_info": {
   "codemirror_mode": {
    "name": "ipython",
    "version": 3
   },
   "file_extension": ".py",
   "mimetype": "text/x-python",
   "name": "python",
   "nbconvert_exporter": "python",
   "pygments_lexer": "ipython3",
   "version": "3.7.3"
  }
 },
 "nbformat": 4,
 "nbformat_minor": 2
}
