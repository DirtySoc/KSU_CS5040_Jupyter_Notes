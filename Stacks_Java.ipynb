{
 "cells": [
  {
   "cell_type": "code",
   "execution_count": 7,
   "metadata": {},
   "outputs": [
    {
     "name": "stdout",
     "output_type": "stream",
     "text": [
      "Top: 5\n",
      "[0, 0, 3, 2, 9, 4, 5, 7, 8, 5]\n"
     ]
    }
   ],
   "source": [
    "Random rand = new Random();\n",
    "Stack myStack = new Stack();\n",
    "int numElements = 10;\n",
    "int maxElementSize = 10;\n",
    "\n",
    "for(int i = 0; i < numElements; i++) \n",
    "    myStack.push(rand.nextInt(maxElementSize));\n",
    "\n",
    "System.out.println(\"Top: \" + myStack.peek());\n",
    "System.out.println(myStack);"
   ]
  },
  {
   "cell_type": "markdown",
   "metadata": {},
   "source": [
    "# Prefix and Postfix Notation"
   ]
  },
  {
   "cell_type": "markdown",
   "metadata": {},
   "source": [
    "### Postfix Evaluation\n",
    "<p>Read the expression from left to right.</p>\n",
    "Evaluate 20 3 18 8 - * 10  + + 10 12 - /\n",
    "\n",
    "1. push 20 3 18 8 <br>\n",
    "    STACK: 20 3 18 8\n",
    "2. eval (18 - 8) <br>\n",
    "    STACK: 20 3 10\n",
    "3. eval (3 * 10) <br>\n",
    "    STACK: 20 30\n",
    "4. push 10 <br>\n",
    "    STACK: 20 30 10\n",
    "5. eval (30 + 10) <br>\n",
    "    STACK: 20 40\n",
    "6. eval (40 + 20)<br>\n",
    "    STACK: 60\n",
    "7. push 10 12 <br>\n",
    "    STACK: 60 10 12\n",
    "8. eval (10 - 12) <br>\n",
    "    STACK: 60 -2\n",
    "9. eval (60 / -2) <br>\n",
    "    STACK: -30\n"
   ]
  },
  {
   "cell_type": "markdown",
   "metadata": {},
   "source": [
    "### Prefix Evaluation\n",
    "<p>Read the expression from right to left.</p>\n",
    "Evaluate + 1 * 2 3\n",
    "1. push 3 2<br>\n",
    "STACK: 2 3 \n",
    "2. eval (3 * 2)<br>\n",
    "STACK: 6\n",
    "4. push 1<br>\n",
    "STACK: 6 1\n",
    "5. eval (1 + 6)<br>\n",
    "STACK: 7"
   ]
  },
  {
   "cell_type": "markdown",
   "metadata": {},
   "source": [
    "### Convert Infix to Postfix\n",
    "\n",
    "Idea:\n",
    " - A stack stores the operators.\n",
    " - A output string stores the operands.\n",
    " - Operators are popped on/off the stack from the input to the output string.\n",
    "\n",
    "Algorithm:\n",
    "1. Create empty stack and output string.\n",
    "2. Scan infix input string from left to right.\n",
    "3. If operand, append to output string.\n",
    "4. If operator, pop off all operators that have ___equal or higher precedence___ and append them to the output string; push the current operator onto stack.\n",
    "5. If the current input token is '(', push it onto the stack.\n",
    "6. If the current input token is ')', pop off all operators and append them to the output string until a '(' is popped; discard the '('.\n",
    "7. If the end of the input string is found, pop all operators and append them to the output string."
   ]
  },
  {
   "cell_type": "code",
   "execution_count": null,
   "metadata": {},
   "outputs": [],
   "source": []
  }
 ],
 "metadata": {
  "kernelspec": {
   "display_name": "Java",
   "language": "java",
   "name": "java"
  },
  "language_info": {
   "codemirror_mode": "java",
   "file_extension": ".jshell",
   "mimetype": "text/x-java-source",
   "name": "Java",
   "pygments_lexer": "java",
   "version": "11.0.3+7-LTS"
  }
 },
 "nbformat": 4,
 "nbformat_minor": 2
}
