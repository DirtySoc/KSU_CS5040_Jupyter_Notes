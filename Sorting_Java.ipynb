{
 "cells": [
  {
   "cell_type": "code",
   "execution_count": 1,
   "metadata": {},
   "outputs": [],
   "source": [
    "// Initialization Code\n",
    "Random rand = new Random();    // Create random number generator.\n",
    "int maxInt = 100;\n",
    "int numElements = 10000;\n",
    "int[] data = new int[numElements];\n",
    "Boolean printOutput = numElements > 10 ? false : true;\n",
    "\n",
    "// Timing parameters.\n",
    "long bubbleSortTime;\n",
    "long insertionSortTime;\n",
    "long selectionSortTime;\n",
    "long startTime;\n",
    "long endTime;\n",
    "\n",
    "public static void generateRandomData(int[] data) {\n",
    "    for(int i = 0; i < numElements; i++) {\n",
    "        data[i] = rand.nextInt(maxInt);\n",
    "    }\n",
    "}\n",
    "\n",
    "// Generate random data\n",
    "generateRandomData(data);"
   ]
  },
  {
   "cell_type": "code",
   "execution_count": 2,
   "metadata": {},
   "outputs": [],
   "source": [
    "// Bubble Sort - Slide 6 - Perf Func: 3/4(n^2-n)\n",
    "public static void bubbleSort(int[] data) {   \n",
    "    int n = data.length;\n",
    "    // For every element in the array\n",
    "    for (int i=0; i < n; i++) {\n",
    "        // The last i elements are already sorted\n",
    "        for (int j = 0; j < (n-i-1); j++ ) {\n",
    "            // If the element selected is greater than the next element swap it.\n",
    "            if (data[j] > data[j+1]) {\n",
    "                int temp = data[j];\n",
    "                data[j] = data[j+1];\n",
    "                data[j+1] = temp;\n",
    "            }\n",
    "            if (printOutput)\n",
    "                System.out.println(\"i: \" + i + \" j: \" + j + \" data: \" + Arrays.toString(data));\n",
    "        }\n",
    "    }\n",
    "};"
   ]
  },
  {
   "cell_type": "code",
   "execution_count": 3,
   "metadata": {},
   "outputs": [],
   "source": [
    "// Sort the data via bubble sort:\n",
    "// generateRandomData(data);\n",
    "startTime = System.nanoTime();\n",
    "bubbleSort(data.clone());\n",
    "endTime = System.nanoTime();\n",
    "bubbleSortTime = (endTime - startTime) / 100000 //milliseconds"
   ]
  },
  {
   "cell_type": "code",
   "execution_count": 4,
   "metadata": {},
   "outputs": [],
   "source": [
    "// Insertion Sort - Slide 9 - Perf Func: 1/2(n^2-n)\n",
    "public static void insertionSort(int[] data) {\n",
    "    int i = 1;\n",
    "    while (i < data.length) {\n",
    "        int j = i;\n",
    "        while (j > 0) {\n",
    "            if (data[j-1] > data[j]) {\n",
    "                int temp = data[j];\n",
    "                data[j] = data[j-1];\n",
    "                data[j-1] = temp;\n",
    "            }\n",
    "            if (printOutput)\n",
    "                System.out.println(\"i:\" + i + \" j:\" + j + \" data:\" + Arrays.toString(data));\n",
    "            j--;\n",
    "        }\n",
    "        i++;\n",
    "    }\n",
    "}"
   ]
  },
  {
   "cell_type": "code",
   "execution_count": 5,
   "metadata": {},
   "outputs": [],
   "source": [
    "// Sort the data via insertion sort:\n",
    "// generateRandomData(data);\n",
    "startTime = System.nanoTime();\n",
    "insertionSort(data.clone());\n",
    "endTime = System.nanoTime();\n",
    "insertionSortTime = (endTime - startTime) / 100000 //milliseconds"
   ]
  },
  {
   "cell_type": "code",
   "execution_count": 6,
   "metadata": {},
   "outputs": [],
   "source": [
    "// Selection Sort - Slide 13 - Perf Func: 3/4(n^2-n)\n",
    "public static void selectionSort(int[] data) {\n",
    "    for (int i = 0; i < data.length; i++) {\n",
    "        for (int j = i + 1; j < data.length; j++) {\n",
    "           if (data[j] < data[i]) {\n",
    "               int temp = data[j];\n",
    "               data[j] = data[i];\n",
    "               data[i] = temp;\n",
    "           }\n",
    "            if (printOutput)\n",
    "                System.out.println(\"i:\" + i + \" j:\" + j + \" data:\" + Arrays.toString(data));\n",
    "        }\n",
    "    }\n",
    "}"
   ]
  },
  {
   "cell_type": "code",
   "execution_count": 7,
   "metadata": {},
   "outputs": [],
   "source": [
    "// Sort the data via insertion sort:\n",
    "// generateRandomData(data);\n",
    "startTime = System.nanoTime();\n",
    "selectionSort(data.clone());\n",
    "endTime = System.nanoTime();\n",
    "selectionSortTime = (endTime - startTime) / 100000 //milliseconds"
   ]
  },
  {
   "cell_type": "code",
   "execution_count": 8,
   "metadata": {},
   "outputs": [
    {
     "name": "stdout",
     "output_type": "stream",
     "text": [
      "Here are your results:\n",
      "\tBubble Sort: \t\t1329ms\n",
      "\tInsert Sort: \t\t759ms\n",
      "\tSelection Sort: \t477ms\n"
     ]
    }
   ],
   "source": [
    "System.out.println(\"Here are your results:\");\n",
    "System.out.println(\"\\tBubble Sort: \\t\\t\" + bubbleSortTime + \"ms\");\n",
    "System.out.println(\"\\tInsert Sort: \\t\\t\" + insertionSortTime + \"ms\");\n",
    "System.out.println(\"\\tSelection Sort: \\t\" + selectionSortTime + \"ms\");\n"
   ]
  },
  {
   "cell_type": "markdown",
   "metadata": {},
   "source": [
    "I think that the first sort is always longer because of some backend memeory optimization..."
   ]
  },
  {
   "cell_type": "code",
   "execution_count": null,
   "metadata": {},
   "outputs": [],
   "source": []
  }
 ],
 "metadata": {
  "kernelspec": {
   "display_name": "Java",
   "language": "java",
   "name": "java"
  },
  "language_info": {
   "codemirror_mode": "java",
   "file_extension": ".jshell",
   "mimetype": "text/x-java-source",
   "name": "Java",
   "pygments_lexer": "java",
   "version": "11.0.3+7-LTS"
  }
 },
 "nbformat": 4,
 "nbformat_minor": 2
}
