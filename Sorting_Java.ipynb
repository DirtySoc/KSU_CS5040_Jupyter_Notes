{
 "cells": [
  {
   "cell_type": "code",
   "execution_count": 1,
   "metadata": {},
   "outputs": [],
   "source": [
    "// Initialization Code\n",
    "Random rand = new Random();    // Create random number generator.\n",
    "int maxInt = 100;\n",
    "int numElements = 10;"
   ]
  },
  {
   "cell_type": "code",
   "execution_count": 2,
   "metadata": {},
   "outputs": [],
   "source": [
    "// Create a random array of 5 integers between 0 and 9.\n",
    "int[] data = new int[numElements];\n"
   ]
  },
  {
   "cell_type": "code",
   "execution_count": 3,
   "metadata": {},
   "outputs": [],
   "source": [
    "public static void generateRandomData(int[] data) {\n",
    "    for(int i = 0; i < numElements; i++) {\n",
    "        data[i] = rand.nextInt(maxInt);\n",
    "    };\n",
    "}"
   ]
  },
  {
   "cell_type": "code",
   "execution_count": 4,
   "metadata": {},
   "outputs": [],
   "source": [
    "// Bubble Sort - Slide 6\n",
    "public static void bubbleSort(int[] data) {\n",
    "    System.out.println(\"S: \" + Arrays.toString(data));\n",
    "    \n",
    "    int n = data.length;\n",
    "    // For every element in the array\n",
    "    for (int i=0; i < n; i++) {\n",
    "        // The last i elements are already sorted\n",
    "        for (int j = 0; j < (n-i-1); j++ ) {\n",
    "            // If the element selected is greater than the next element swap it.\n",
    "            if (data[j] > data[j+1]) {\n",
    "                int temp = data[j];\n",
    "                data[j] = data[j+1];\n",
    "                data[j+1] = temp;\n",
    "            }\n",
    "            System.out.println(\"i: \" + i + \" j: \" + j + \" data: \" + Arrays.toString(data));\n",
    "        }\n",
    "    }\n",
    "};"
   ]
  },
  {
   "cell_type": "code",
   "execution_count": 5,
   "metadata": {},
   "outputs": [
    {
     "name": "stdout",
     "output_type": "stream",
     "text": [
      "S: [54, 81, 97, 13, 1, 43, 89, 86, 50, 24]\n",
      "i: 0 j: 0 data: [54, 81, 97, 13, 1, 43, 89, 86, 50, 24]\n",
      "i: 0 j: 1 data: [54, 81, 97, 13, 1, 43, 89, 86, 50, 24]\n",
      "i: 0 j: 2 data: [54, 81, 13, 97, 1, 43, 89, 86, 50, 24]\n",
      "i: 0 j: 3 data: [54, 81, 13, 1, 97, 43, 89, 86, 50, 24]\n",
      "i: 0 j: 4 data: [54, 81, 13, 1, 43, 97, 89, 86, 50, 24]\n",
      "i: 0 j: 5 data: [54, 81, 13, 1, 43, 89, 97, 86, 50, 24]\n",
      "i: 0 j: 6 data: [54, 81, 13, 1, 43, 89, 86, 97, 50, 24]\n",
      "i: 0 j: 7 data: [54, 81, 13, 1, 43, 89, 86, 50, 97, 24]\n",
      "i: 0 j: 8 data: [54, 81, 13, 1, 43, 89, 86, 50, 24, 97]\n",
      "i: 1 j: 0 data: [54, 81, 13, 1, 43, 89, 86, 50, 24, 97]\n",
      "i: 1 j: 1 data: [54, 13, 81, 1, 43, 89, 86, 50, 24, 97]\n",
      "i: 1 j: 2 data: [54, 13, 1, 81, 43, 89, 86, 50, 24, 97]\n",
      "i: 1 j: 3 data: [54, 13, 1, 43, 81, 89, 86, 50, 24, 97]\n",
      "i: 1 j: 4 data: [54, 13, 1, 43, 81, 89, 86, 50, 24, 97]\n",
      "i: 1 j: 5 data: [54, 13, 1, 43, 81, 86, 89, 50, 24, 97]\n",
      "i: 1 j: 6 data: [54, 13, 1, 43, 81, 86, 50, 89, 24, 97]\n",
      "i: 1 j: 7 data: [54, 13, 1, 43, 81, 86, 50, 24, 89, 97]\n",
      "i: 2 j: 0 data: [13, 54, 1, 43, 81, 86, 50, 24, 89, 97]\n",
      "i: 2 j: 1 data: [13, 1, 54, 43, 81, 86, 50, 24, 89, 97]\n",
      "i: 2 j: 2 data: [13, 1, 43, 54, 81, 86, 50, 24, 89, 97]\n",
      "i: 2 j: 3 data: [13, 1, 43, 54, 81, 86, 50, 24, 89, 97]\n",
      "i: 2 j: 4 data: [13, 1, 43, 54, 81, 86, 50, 24, 89, 97]\n",
      "i: 2 j: 5 data: [13, 1, 43, 54, 81, 50, 86, 24, 89, 97]\n",
      "i: 2 j: 6 data: [13, 1, 43, 54, 81, 50, 24, 86, 89, 97]\n",
      "i: 3 j: 0 data: [1, 13, 43, 54, 81, 50, 24, 86, 89, 97]\n",
      "i: 3 j: 1 data: [1, 13, 43, 54, 81, 50, 24, 86, 89, 97]\n",
      "i: 3 j: 2 data: [1, 13, 43, 54, 81, 50, 24, 86, 89, 97]\n",
      "i: 3 j: 3 data: [1, 13, 43, 54, 81, 50, 24, 86, 89, 97]\n",
      "i: 3 j: 4 data: [1, 13, 43, 54, 50, 81, 24, 86, 89, 97]\n",
      "i: 3 j: 5 data: [1, 13, 43, 54, 50, 24, 81, 86, 89, 97]\n",
      "i: 4 j: 0 data: [1, 13, 43, 54, 50, 24, 81, 86, 89, 97]\n",
      "i: 4 j: 1 data: [1, 13, 43, 54, 50, 24, 81, 86, 89, 97]\n",
      "i: 4 j: 2 data: [1, 13, 43, 54, 50, 24, 81, 86, 89, 97]\n",
      "i: 4 j: 3 data: [1, 13, 43, 50, 54, 24, 81, 86, 89, 97]\n",
      "i: 4 j: 4 data: [1, 13, 43, 50, 24, 54, 81, 86, 89, 97]\n",
      "i: 5 j: 0 data: [1, 13, 43, 50, 24, 54, 81, 86, 89, 97]\n",
      "i: 5 j: 1 data: [1, 13, 43, 50, 24, 54, 81, 86, 89, 97]\n",
      "i: 5 j: 2 data: [1, 13, 43, 50, 24, 54, 81, 86, 89, 97]\n",
      "i: 5 j: 3 data: [1, 13, 43, 24, 50, 54, 81, 86, 89, 97]\n",
      "i: 6 j: 0 data: [1, 13, 43, 24, 50, 54, 81, 86, 89, 97]\n",
      "i: 6 j: 1 data: [1, 13, 43, 24, 50, 54, 81, 86, 89, 97]\n",
      "i: 6 j: 2 data: [1, 13, 24, 43, 50, 54, 81, 86, 89, 97]\n",
      "i: 7 j: 0 data: [1, 13, 24, 43, 50, 54, 81, 86, 89, 97]\n",
      "i: 7 j: 1 data: [1, 13, 24, 43, 50, 54, 81, 86, 89, 97]\n",
      "i: 8 j: 0 data: [1, 13, 24, 43, 50, 54, 81, 86, 89, 97]\n"
     ]
    }
   ],
   "source": [
    "// Sort the data via bubble sort:\n",
    "generateRandomData(data);\n",
    "bubbleSort(data);"
   ]
  },
  {
   "cell_type": "code",
   "execution_count": null,
   "metadata": {},
   "outputs": [],
   "source": []
  }
 ],
 "metadata": {
  "kernelspec": {
   "display_name": "Java",
   "language": "java",
   "name": "java"
  },
  "language_info": {
   "codemirror_mode": "java",
   "file_extension": ".jshell",
   "mimetype": "text/x-java-source",
   "name": "Java",
   "pygments_lexer": "java",
   "version": "11.0.3+7-LTS"
  }
 },
 "nbformat": 4,
 "nbformat_minor": 2
}
