{
 "cells": [
  {
   "cell_type": "markdown",
   "metadata": {},
   "source": [
    "### Initialization Code"
   ]
  },
  {
   "cell_type": "code",
   "execution_count": 1,
   "metadata": {},
   "outputs": [],
   "source": [
    "// Initialization Code\n",
    "Random rand = new Random();    // Create random number generator.\n",
    "\n",
    "// Set to 10 or less elements to get visual output of each sort method.\n",
    "int numElements = 9;\n",
    "int maxInt = 10;\n",
    "\n",
    "int[] data = new int[numElements];\n",
    "Boolean printOutput = numElements > 10 ? false : true;\n",
    "\n",
    "// Timing parameters.\n",
    "long bubbleSortTime;\n",
    "long insertionSortTime;\n",
    "long selectionSortTime;\n",
    "long improvedSelectionSortTime;\n",
    "long mergeSortTime;\n",
    "long quickSortTime;\n",
    "long startTime;\n",
    "long endTime;\n",
    "\n",
    "// Generate random data\n",
    "public static void generateRandomData(int[] data) {\n",
    "    for(int i = 0; i < numElements; i++) {\n",
    "        data[i] = rand.nextInt(maxInt);\n",
    "    }\n",
    "}\n",
    "generateRandomData(data);"
   ]
  },
  {
   "cell_type": "markdown",
   "metadata": {},
   "source": [
    "# Simple Sorting Algorithms O(n^2)"
   ]
  },
  {
   "cell_type": "code",
   "execution_count": 2,
   "metadata": {},
   "outputs": [],
   "source": [
    "// Bubble Sort - Slide 6 - Perf Func: 3/4(n^2-n)\n",
    "public static void bubbleSort(int[] data) {   \n",
    "    int n = data.length;\n",
    "    // For every element in the array\n",
    "    for (int i=0; i < n; i++) {\n",
    "        // The last i elements are already sorted\n",
    "        for (int j = 0; j < (n-i-1); j++ ) {\n",
    "            // If the element selected is greater than the next element swap it.\n",
    "            if (data[j] > data[j+1]) {\n",
    "                int temp = data[j];\n",
    "                data[j] = data[j+1];\n",
    "                data[j+1] = temp;\n",
    "            }\n",
    "            if (printOutput)\n",
    "                System.out.println(\"i: \" + i + \" j: \" + j + \" data: \" + Arrays.toString(data));\n",
    "        }\n",
    "    }\n",
    "};"
   ]
  },
  {
   "cell_type": "code",
   "execution_count": 3,
   "metadata": {},
   "outputs": [
    {
     "name": "stdout",
     "output_type": "stream",
     "text": [
      "i: 0 j: 0 data: [4, 9, 7, 8, 3, 9, 5, 1, 6]\n",
      "i: 0 j: 1 data: [4, 7, 9, 8, 3, 9, 5, 1, 6]\n",
      "i: 0 j: 2 data: [4, 7, 8, 9, 3, 9, 5, 1, 6]\n",
      "i: 0 j: 3 data: [4, 7, 8, 3, 9, 9, 5, 1, 6]\n",
      "i: 0 j: 4 data: [4, 7, 8, 3, 9, 9, 5, 1, 6]\n",
      "i: 0 j: 5 data: [4, 7, 8, 3, 9, 5, 9, 1, 6]\n",
      "i: 0 j: 6 data: [4, 7, 8, 3, 9, 5, 1, 9, 6]\n",
      "i: 0 j: 7 data: [4, 7, 8, 3, 9, 5, 1, 6, 9]\n",
      "i: 1 j: 0 data: [4, 7, 8, 3, 9, 5, 1, 6, 9]\n",
      "i: 1 j: 1 data: [4, 7, 8, 3, 9, 5, 1, 6, 9]\n",
      "i: 1 j: 2 data: [4, 7, 3, 8, 9, 5, 1, 6, 9]\n",
      "i: 1 j: 3 data: [4, 7, 3, 8, 9, 5, 1, 6, 9]\n",
      "i: 1 j: 4 data: [4, 7, 3, 8, 5, 9, 1, 6, 9]\n",
      "i: 1 j: 5 data: [4, 7, 3, 8, 5, 1, 9, 6, 9]\n",
      "i: 1 j: 6 data: [4, 7, 3, 8, 5, 1, 6, 9, 9]\n",
      "i: 2 j: 0 data: [4, 7, 3, 8, 5, 1, 6, 9, 9]\n",
      "i: 2 j: 1 data: [4, 3, 7, 8, 5, 1, 6, 9, 9]\n",
      "i: 2 j: 2 data: [4, 3, 7, 8, 5, 1, 6, 9, 9]\n",
      "i: 2 j: 3 data: [4, 3, 7, 5, 8, 1, 6, 9, 9]\n",
      "i: 2 j: 4 data: [4, 3, 7, 5, 1, 8, 6, 9, 9]\n",
      "i: 2 j: 5 data: [4, 3, 7, 5, 1, 6, 8, 9, 9]\n",
      "i: 3 j: 0 data: [3, 4, 7, 5, 1, 6, 8, 9, 9]\n",
      "i: 3 j: 1 data: [3, 4, 7, 5, 1, 6, 8, 9, 9]\n",
      "i: 3 j: 2 data: [3, 4, 5, 7, 1, 6, 8, 9, 9]\n",
      "i: 3 j: 3 data: [3, 4, 5, 1, 7, 6, 8, 9, 9]\n",
      "i: 3 j: 4 data: [3, 4, 5, 1, 6, 7, 8, 9, 9]\n",
      "i: 4 j: 0 data: [3, 4, 5, 1, 6, 7, 8, 9, 9]\n",
      "i: 4 j: 1 data: [3, 4, 5, 1, 6, 7, 8, 9, 9]\n",
      "i: 4 j: 2 data: [3, 4, 1, 5, 6, 7, 8, 9, 9]\n",
      "i: 4 j: 3 data: [3, 4, 1, 5, 6, 7, 8, 9, 9]\n",
      "i: 5 j: 0 data: [3, 4, 1, 5, 6, 7, 8, 9, 9]\n",
      "i: 5 j: 1 data: [3, 1, 4, 5, 6, 7, 8, 9, 9]\n",
      "i: 5 j: 2 data: [3, 1, 4, 5, 6, 7, 8, 9, 9]\n",
      "i: 6 j: 0 data: [1, 3, 4, 5, 6, 7, 8, 9, 9]\n",
      "i: 6 j: 1 data: [1, 3, 4, 5, 6, 7, 8, 9, 9]\n",
      "i: 7 j: 0 data: [1, 3, 4, 5, 6, 7, 8, 9, 9]\n"
     ]
    }
   ],
   "source": [
    "// Pre-load the sort for more accurate time comp at end? Maybe?\n",
    "bubbleSort(data.clone());"
   ]
  },
  {
   "cell_type": "code",
   "execution_count": 4,
   "metadata": {},
   "outputs": [
    {
     "name": "stdout",
     "output_type": "stream",
     "text": [
      "i: 0 j: 0 data: [4, 9, 7, 8, 3, 9, 5, 1, 6]\n",
      "i: 0 j: 1 data: [4, 7, 9, 8, 3, 9, 5, 1, 6]\n",
      "i: 0 j: 2 data: [4, 7, 8, 9, 3, 9, 5, 1, 6]\n",
      "i: 0 j: 3 data: [4, 7, 8, 3, 9, 9, 5, 1, 6]\n",
      "i: 0 j: 4 data: [4, 7, 8, 3, 9, 9, 5, 1, 6]\n",
      "i: 0 j: 5 data: [4, 7, 8, 3, 9, 5, 9, 1, 6]\n",
      "i: 0 j: 6 data: [4, 7, 8, 3, 9, 5, 1, 9, 6]\n",
      "i: 0 j: 7 data: [4, 7, 8, 3, 9, 5, 1, 6, 9]\n",
      "i: 1 j: 0 data: [4, 7, 8, 3, 9, 5, 1, 6, 9]\n",
      "i: 1 j: 1 data: [4, 7, 8, 3, 9, 5, 1, 6, 9]\n",
      "i: 1 j: 2 data: [4, 7, 3, 8, 9, 5, 1, 6, 9]\n",
      "i: 1 j: 3 data: [4, 7, 3, 8, 9, 5, 1, 6, 9]\n",
      "i: 1 j: 4 data: [4, 7, 3, 8, 5, 9, 1, 6, 9]\n",
      "i: 1 j: 5 data: [4, 7, 3, 8, 5, 1, 9, 6, 9]\n",
      "i: 1 j: 6 data: [4, 7, 3, 8, 5, 1, 6, 9, 9]\n",
      "i: 2 j: 0 data: [4, 7, 3, 8, 5, 1, 6, 9, 9]\n",
      "i: 2 j: 1 data: [4, 3, 7, 8, 5, 1, 6, 9, 9]\n",
      "i: 2 j: 2 data: [4, 3, 7, 8, 5, 1, 6, 9, 9]\n",
      "i: 2 j: 3 data: [4, 3, 7, 5, 8, 1, 6, 9, 9]\n",
      "i: 2 j: 4 data: [4, 3, 7, 5, 1, 8, 6, 9, 9]\n",
      "i: 2 j: 5 data: [4, 3, 7, 5, 1, 6, 8, 9, 9]\n",
      "i: 3 j: 0 data: [3, 4, 7, 5, 1, 6, 8, 9, 9]\n",
      "i: 3 j: 1 data: [3, 4, 7, 5, 1, 6, 8, 9, 9]\n",
      "i: 3 j: 2 data: [3, 4, 5, 7, 1, 6, 8, 9, 9]\n",
      "i: 3 j: 3 data: [3, 4, 5, 1, 7, 6, 8, 9, 9]\n",
      "i: 3 j: 4 data: [3, 4, 5, 1, 6, 7, 8, 9, 9]\n",
      "i: 4 j: 0 data: [3, 4, 5, 1, 6, 7, 8, 9, 9]\n",
      "i: 4 j: 1 data: [3, 4, 5, 1, 6, 7, 8, 9, 9]\n",
      "i: 4 j: 2 data: [3, 4, 1, 5, 6, 7, 8, 9, 9]\n",
      "i: 4 j: 3 data: [3, 4, 1, 5, 6, 7, 8, 9, 9]\n",
      "i: 5 j: 0 data: [3, 4, 1, 5, 6, 7, 8, 9, 9]\n",
      "i: 5 j: 1 data: [3, 1, 4, 5, 6, 7, 8, 9, 9]\n",
      "i: 5 j: 2 data: [3, 1, 4, 5, 6, 7, 8, 9, 9]\n",
      "i: 6 j: 0 data: [1, 3, 4, 5, 6, 7, 8, 9, 9]\n",
      "i: 6 j: 1 data: [1, 3, 4, 5, 6, 7, 8, 9, 9]\n",
      "i: 7 j: 0 data: [1, 3, 4, 5, 6, 7, 8, 9, 9]\n"
     ]
    }
   ],
   "source": [
    "// Sort the data via bubble sort:\n",
    "// generateRandomData(data);\n",
    "startTime = System.nanoTime();\n",
    "bubbleSort(data.clone());\n",
    "endTime = System.nanoTime();\n",
    "bubbleSortTime = (endTime - startTime) / 100000; //milliseconds"
   ]
  },
  {
   "cell_type": "code",
   "execution_count": 5,
   "metadata": {},
   "outputs": [],
   "source": [
    "// Insertion Sort - Slide 9 - Perf Func: 1/2(n^2-n)\n",
    "public static void insertionSort(int[] data) {\n",
    "    int i = 1;\n",
    "    while (i < data.length) {\n",
    "        int j = i;\n",
    "        while (j > 0) {\n",
    "            if (data[j-1] > data[j]) {\n",
    "                int temp = data[j];\n",
    "                data[j] = data[j-1];\n",
    "                data[j-1] = temp;\n",
    "            }\n",
    "            if (printOutput)\n",
    "                System.out.println(\"i:\" + i + \" j:\" + j + \" data:\" + Arrays.toString(data));\n",
    "            j--;\n",
    "        }\n",
    "        i++;\n",
    "    }\n",
    "}"
   ]
  },
  {
   "cell_type": "code",
   "execution_count": 6,
   "metadata": {},
   "outputs": [
    {
     "name": "stdout",
     "output_type": "stream",
     "text": [
      "i:1 j:1 data:[4, 9, 7, 8, 3, 9, 5, 1, 6]\n",
      "i:2 j:2 data:[4, 7, 9, 8, 3, 9, 5, 1, 6]\n",
      "i:2 j:1 data:[4, 7, 9, 8, 3, 9, 5, 1, 6]\n",
      "i:3 j:3 data:[4, 7, 8, 9, 3, 9, 5, 1, 6]\n",
      "i:3 j:2 data:[4, 7, 8, 9, 3, 9, 5, 1, 6]\n",
      "i:3 j:1 data:[4, 7, 8, 9, 3, 9, 5, 1, 6]\n",
      "i:4 j:4 data:[4, 7, 8, 3, 9, 9, 5, 1, 6]\n",
      "i:4 j:3 data:[4, 7, 3, 8, 9, 9, 5, 1, 6]\n",
      "i:4 j:2 data:[4, 3, 7, 8, 9, 9, 5, 1, 6]\n",
      "i:4 j:1 data:[3, 4, 7, 8, 9, 9, 5, 1, 6]\n",
      "i:5 j:5 data:[3, 4, 7, 8, 9, 9, 5, 1, 6]\n",
      "i:5 j:4 data:[3, 4, 7, 8, 9, 9, 5, 1, 6]\n",
      "i:5 j:3 data:[3, 4, 7, 8, 9, 9, 5, 1, 6]\n",
      "i:5 j:2 data:[3, 4, 7, 8, 9, 9, 5, 1, 6]\n",
      "i:5 j:1 data:[3, 4, 7, 8, 9, 9, 5, 1, 6]\n",
      "i:6 j:6 data:[3, 4, 7, 8, 9, 5, 9, 1, 6]\n",
      "i:6 j:5 data:[3, 4, 7, 8, 5, 9, 9, 1, 6]\n",
      "i:6 j:4 data:[3, 4, 7, 5, 8, 9, 9, 1, 6]\n",
      "i:6 j:3 data:[3, 4, 5, 7, 8, 9, 9, 1, 6]\n",
      "i:6 j:2 data:[3, 4, 5, 7, 8, 9, 9, 1, 6]\n",
      "i:6 j:1 data:[3, 4, 5, 7, 8, 9, 9, 1, 6]\n",
      "i:7 j:7 data:[3, 4, 5, 7, 8, 9, 1, 9, 6]\n",
      "i:7 j:6 data:[3, 4, 5, 7, 8, 1, 9, 9, 6]\n",
      "i:7 j:5 data:[3, 4, 5, 7, 1, 8, 9, 9, 6]\n",
      "i:7 j:4 data:[3, 4, 5, 1, 7, 8, 9, 9, 6]\n",
      "i:7 j:3 data:[3, 4, 1, 5, 7, 8, 9, 9, 6]\n",
      "i:7 j:2 data:[3, 1, 4, 5, 7, 8, 9, 9, 6]\n",
      "i:7 j:1 data:[1, 3, 4, 5, 7, 8, 9, 9, 6]\n",
      "i:8 j:8 data:[1, 3, 4, 5, 7, 8, 9, 6, 9]\n",
      "i:8 j:7 data:[1, 3, 4, 5, 7, 8, 6, 9, 9]\n",
      "i:8 j:6 data:[1, 3, 4, 5, 7, 6, 8, 9, 9]\n",
      "i:8 j:5 data:[1, 3, 4, 5, 6, 7, 8, 9, 9]\n",
      "i:8 j:4 data:[1, 3, 4, 5, 6, 7, 8, 9, 9]\n",
      "i:8 j:3 data:[1, 3, 4, 5, 6, 7, 8, 9, 9]\n",
      "i:8 j:2 data:[1, 3, 4, 5, 6, 7, 8, 9, 9]\n",
      "i:8 j:1 data:[1, 3, 4, 5, 6, 7, 8, 9, 9]\n"
     ]
    }
   ],
   "source": [
    "// Sort the data via insertion sort:\n",
    "// generateRandomData(data);\n",
    "startTime = System.nanoTime();\n",
    "insertionSort(data.clone());\n",
    "endTime = System.nanoTime();\n",
    "insertionSortTime = (endTime - startTime) / 100000; //milliseconds"
   ]
  },
  {
   "cell_type": "code",
   "execution_count": 7,
   "metadata": {},
   "outputs": [],
   "source": [
    "// Selection Sort - Slide 13 - Perf Func: 3/4(n^2-n)\n",
    "public static void selectionSort(int[] data) {\n",
    "    for (int i = 0; i < data.length; i++) {\n",
    "        for (int j = i + 1; j < data.length; j++) {\n",
    "           if (data[j] < data[i]) {\n",
    "               int temp = data[j];\n",
    "               data[j] = data[i];\n",
    "               data[i] = temp;\n",
    "           }\n",
    "            if (printOutput)\n",
    "                System.out.println(\"i:\" + i + \" j:\" + j + \" data:\" + Arrays.toString(data));\n",
    "        }\n",
    "    }\n",
    "}"
   ]
  },
  {
   "cell_type": "code",
   "execution_count": 8,
   "metadata": {},
   "outputs": [
    {
     "name": "stdout",
     "output_type": "stream",
     "text": [
      "i:0 j:1 data:[4, 9, 7, 8, 3, 9, 5, 1, 6]\n",
      "i:0 j:2 data:[4, 9, 7, 8, 3, 9, 5, 1, 6]\n",
      "i:0 j:3 data:[4, 9, 7, 8, 3, 9, 5, 1, 6]\n",
      "i:0 j:4 data:[3, 9, 7, 8, 4, 9, 5, 1, 6]\n",
      "i:0 j:5 data:[3, 9, 7, 8, 4, 9, 5, 1, 6]\n",
      "i:0 j:6 data:[3, 9, 7, 8, 4, 9, 5, 1, 6]\n",
      "i:0 j:7 data:[1, 9, 7, 8, 4, 9, 5, 3, 6]\n",
      "i:0 j:8 data:[1, 9, 7, 8, 4, 9, 5, 3, 6]\n",
      "i:1 j:2 data:[1, 7, 9, 8, 4, 9, 5, 3, 6]\n",
      "i:1 j:3 data:[1, 7, 9, 8, 4, 9, 5, 3, 6]\n",
      "i:1 j:4 data:[1, 4, 9, 8, 7, 9, 5, 3, 6]\n",
      "i:1 j:5 data:[1, 4, 9, 8, 7, 9, 5, 3, 6]\n",
      "i:1 j:6 data:[1, 4, 9, 8, 7, 9, 5, 3, 6]\n",
      "i:1 j:7 data:[1, 3, 9, 8, 7, 9, 5, 4, 6]\n",
      "i:1 j:8 data:[1, 3, 9, 8, 7, 9, 5, 4, 6]\n",
      "i:2 j:3 data:[1, 3, 8, 9, 7, 9, 5, 4, 6]\n",
      "i:2 j:4 data:[1, 3, 7, 9, 8, 9, 5, 4, 6]\n",
      "i:2 j:5 data:[1, 3, 7, 9, 8, 9, 5, 4, 6]\n",
      "i:2 j:6 data:[1, 3, 5, 9, 8, 9, 7, 4, 6]\n",
      "i:2 j:7 data:[1, 3, 4, 9, 8, 9, 7, 5, 6]\n",
      "i:2 j:8 data:[1, 3, 4, 9, 8, 9, 7, 5, 6]\n",
      "i:3 j:4 data:[1, 3, 4, 8, 9, 9, 7, 5, 6]\n",
      "i:3 j:5 data:[1, 3, 4, 8, 9, 9, 7, 5, 6]\n",
      "i:3 j:6 data:[1, 3, 4, 7, 9, 9, 8, 5, 6]\n",
      "i:3 j:7 data:[1, 3, 4, 5, 9, 9, 8, 7, 6]\n",
      "i:3 j:8 data:[1, 3, 4, 5, 9, 9, 8, 7, 6]\n",
      "i:4 j:5 data:[1, 3, 4, 5, 9, 9, 8, 7, 6]\n",
      "i:4 j:6 data:[1, 3, 4, 5, 8, 9, 9, 7, 6]\n",
      "i:4 j:7 data:[1, 3, 4, 5, 7, 9, 9, 8, 6]\n",
      "i:4 j:8 data:[1, 3, 4, 5, 6, 9, 9, 8, 7]\n",
      "i:5 j:6 data:[1, 3, 4, 5, 6, 9, 9, 8, 7]\n",
      "i:5 j:7 data:[1, 3, 4, 5, 6, 8, 9, 9, 7]\n",
      "i:5 j:8 data:[1, 3, 4, 5, 6, 7, 9, 9, 8]\n",
      "i:6 j:7 data:[1, 3, 4, 5, 6, 7, 9, 9, 8]\n",
      "i:6 j:8 data:[1, 3, 4, 5, 6, 7, 8, 9, 9]\n",
      "i:7 j:8 data:[1, 3, 4, 5, 6, 7, 8, 9, 9]\n"
     ]
    }
   ],
   "source": [
    "// Sort the data via selection sort:\n",
    "// generateRandomData(data);\n",
    "startTime = System.nanoTime();\n",
    "selectionSort(data.clone());\n",
    "endTime = System.nanoTime();\n",
    "selectionSortTime = (endTime - startTime) / 100000; //milliseconds"
   ]
  },
  {
   "cell_type": "code",
   "execution_count": 9,
   "metadata": {},
   "outputs": [],
   "source": [
    "// Improved Selection Sort - Slide 16 - Perf Func: 1/2(n^2-n)\n",
    "public static void improvedSelectionSort(int[] data) {\n",
    "    int position;\n",
    "    for (int i = 0; i < data.length; i++) {\n",
    "        position = i;\n",
    "        for (int j = i + 1; j < data.length; j++) {\n",
    "           if (data[j] < data[i]) {\n",
    "                position = j;\n",
    "           }\n",
    "            if (printOutput)\n",
    "                System.out.println(\"i:\" + i + \" j:\" + j + \" data:\" + Arrays.toString(data));\n",
    "        }\n",
    "        int temp = data[position];\n",
    "        data[position] = data[i];\n",
    "        data[position] = temp;\n",
    "    }\n",
    "}"
   ]
  },
  {
   "cell_type": "code",
   "execution_count": 10,
   "metadata": {},
   "outputs": [
    {
     "name": "stdout",
     "output_type": "stream",
     "text": [
      "i:0 j:1 data:[4, 9, 7, 8, 3, 9, 5, 1, 6]\n",
      "i:0 j:2 data:[4, 9, 7, 8, 3, 9, 5, 1, 6]\n",
      "i:0 j:3 data:[4, 9, 7, 8, 3, 9, 5, 1, 6]\n",
      "i:0 j:4 data:[4, 9, 7, 8, 3, 9, 5, 1, 6]\n",
      "i:0 j:5 data:[4, 9, 7, 8, 3, 9, 5, 1, 6]\n",
      "i:0 j:6 data:[4, 9, 7, 8, 3, 9, 5, 1, 6]\n",
      "i:0 j:7 data:[4, 9, 7, 8, 3, 9, 5, 1, 6]\n",
      "i:0 j:8 data:[4, 9, 7, 8, 3, 9, 5, 1, 6]\n",
      "i:1 j:2 data:[4, 9, 7, 8, 3, 9, 5, 1, 6]\n",
      "i:1 j:3 data:[4, 9, 7, 8, 3, 9, 5, 1, 6]\n",
      "i:1 j:4 data:[4, 9, 7, 8, 3, 9, 5, 1, 6]\n",
      "i:1 j:5 data:[4, 9, 7, 8, 3, 9, 5, 1, 6]\n",
      "i:1 j:6 data:[4, 9, 7, 8, 3, 9, 5, 1, 6]\n",
      "i:1 j:7 data:[4, 9, 7, 8, 3, 9, 5, 1, 6]\n",
      "i:1 j:8 data:[4, 9, 7, 8, 3, 9, 5, 1, 6]\n",
      "i:2 j:3 data:[4, 9, 7, 8, 3, 9, 5, 1, 6]\n",
      "i:2 j:4 data:[4, 9, 7, 8, 3, 9, 5, 1, 6]\n",
      "i:2 j:5 data:[4, 9, 7, 8, 3, 9, 5, 1, 6]\n",
      "i:2 j:6 data:[4, 9, 7, 8, 3, 9, 5, 1, 6]\n",
      "i:2 j:7 data:[4, 9, 7, 8, 3, 9, 5, 1, 6]\n",
      "i:2 j:8 data:[4, 9, 7, 8, 3, 9, 5, 1, 6]\n",
      "i:3 j:4 data:[4, 9, 7, 8, 3, 9, 5, 1, 6]\n",
      "i:3 j:5 data:[4, 9, 7, 8, 3, 9, 5, 1, 6]\n",
      "i:3 j:6 data:[4, 9, 7, 8, 3, 9, 5, 1, 6]\n",
      "i:3 j:7 data:[4, 9, 7, 8, 3, 9, 5, 1, 6]\n",
      "i:3 j:8 data:[4, 9, 7, 8, 3, 9, 5, 1, 6]\n",
      "i:4 j:5 data:[4, 9, 7, 8, 3, 9, 5, 1, 6]\n",
      "i:4 j:6 data:[4, 9, 7, 8, 3, 9, 5, 1, 6]\n",
      "i:4 j:7 data:[4, 9, 7, 8, 3, 9, 5, 1, 6]\n",
      "i:4 j:8 data:[4, 9, 7, 8, 3, 9, 5, 1, 6]\n",
      "i:5 j:6 data:[4, 9, 7, 8, 3, 9, 5, 1, 6]\n",
      "i:5 j:7 data:[4, 9, 7, 8, 3, 9, 5, 1, 6]\n",
      "i:5 j:8 data:[4, 9, 7, 8, 3, 9, 5, 1, 6]\n",
      "i:6 j:7 data:[4, 9, 7, 8, 3, 9, 5, 1, 6]\n",
      "i:6 j:8 data:[4, 9, 7, 8, 3, 9, 5, 1, 6]\n",
      "i:7 j:8 data:[4, 9, 7, 8, 3, 9, 5, 1, 6]\n"
     ]
    }
   ],
   "source": [
    "// Sort the data via improved selection sort:\n",
    "// generateRandomData(data);\n",
    "startTime = System.nanoTime();\n",
    "improvedSelectionSort(data.clone());\n",
    "endTime = System.nanoTime();\n",
    "improvedSelectionSortTime = (endTime - startTime) / 100000; //milliseconds"
   ]
  },
  {
   "cell_type": "code",
   "execution_count": 11,
   "metadata": {},
   "outputs": [
    {
     "name": "stdout",
     "output_type": "stream",
     "text": [
      "Here are your results:\n",
      "\tBubble Sort: \t\t\t875ms\n",
      "\tInsert Sort: \t\t\t785ms\n",
      "\tSelection Sort: \t\t679ms\n",
      "\tImproved Selection Sort: \t614ms\n"
     ]
    }
   ],
   "source": [
    "System.out.println(\"Here are your results:\");\n",
    "System.out.println(\"\\tBubble Sort: \\t\\t\\t\" + bubbleSortTime + \"ms\");\n",
    "System.out.println(\"\\tInsert Sort: \\t\\t\\t\" + insertionSortTime + \"ms\");\n",
    "System.out.println(\"\\tSelection Sort: \\t\\t\" + selectionSortTime + \"ms\");\n",
    "System.out.println(\"\\tImproved Selection Sort: \\t\" + improvedSelectionSortTime + \"ms\");"
   ]
  },
  {
   "cell_type": "markdown",
   "metadata": {},
   "source": [
    "# Advanced Sorting Algorithms O(nLogn)"
   ]
  },
  {
   "cell_type": "code",
   "execution_count": 12,
   "metadata": {},
   "outputs": [],
   "source": [
    "// Merge Sort - Slide 3\n",
    "public static int[] mergeSort(int[] data) {\n",
    "    // If the array is only one element, return that element.\n",
    "    if (data.length <= 1) {\n",
    "        return data;\n",
    "    }\n",
    "    \n",
    "    int[] firstHalf = new int[data.length / 2];\n",
    "    int[] secondHalf = new int[data.length - firstHalf.length];\n",
    "    System.arraycopy(data, 0, firstHalf, 0, firstHalf.length);\n",
    "    System.arraycopy(data, firstHalf.length, secondHalf, 0, secondHalf.length);\n",
    "    \n",
    "    // Recursively sort each half.\n",
    "    mergeSort(firstHalf);\n",
    "    mergeSort(secondHalf);\n",
    "    \n",
    "    // merge both halves together, overwriting original array.\n",
    "    // Define indexs for each array\n",
    "    int iFirst = 0;\n",
    "    int iSecond = 0;\n",
    "    int iData = 0;\n",
    "    \n",
    "    // Compare elements at iFirst and iSecond. \n",
    "    // Move smaller element to iData;\n",
    "    while (iFirst < firstHalf.length && iSecond < secondHalf.length) {\n",
    "        if (firstHalf[iFirst] < secondHalf[iSecond]) {\n",
    "            data[iData] = firstHalf[iFirst];\n",
    "            iFirst++;\n",
    "        } else {\n",
    "            data[iData] = secondHalf[iSecond];\n",
    "            iSecond++;\n",
    "        }\n",
    "        iData++;\n",
    "    }\n",
    "    // Copy remaining elements from both halves - each half will have already sorted elements.\n",
    "    System.arraycopy(firstHalf, iFirst, data, iData, firstHalf.length - iFirst);\n",
    "    System.arraycopy(secondHalf, iSecond, data, iData, secondHalf.length - iSecond);\n",
    "    \n",
    "    return data;\n",
    "}"
   ]
  },
  {
   "cell_type": "code",
   "execution_count": 13,
   "metadata": {},
   "outputs": [
    {
     "name": "stdout",
     "output_type": "stream",
     "text": [
      "Before: [4, 9, 7, 8, 3, 9, 5, 1, 6]\n",
      "After: \t[1, 3, 4, 5, 6, 7, 8, 9, 9]\n",
      "Time: 702ms\n"
     ]
    }
   ],
   "source": [
    "// Sort the data via merge sort:\n",
    "// generateRandomData(data);\n",
    "startTime = System.nanoTime();\n",
    "System.out.println(\"Before: \" + Arrays.toString(data));\n",
    "System.out.println(\"After: \\t\" + Arrays.toString(mergeSort(data.clone())));\n",
    "endTime = System.nanoTime();\n",
    "mergeSortTime = (endTime - startTime) / 100000; //milliseconds\n",
    "System.out.println(\"Time: \" + mergeSortTime + \"ms\");"
   ]
  },
  {
   "cell_type": "code",
   "execution_count": 14,
   "metadata": {},
   "outputs": [],
   "source": [
    "// Quicksort - Slide 8\n",
    "public static void quickSort(int[] arr, int low, int high) {\n",
    "    if (printOutput)\n",
    "        System.out.println(Arrays.toString(arr));\n",
    "    \n",
    "    if (arr == null || arr.length <= 1)\n",
    "        return;\n",
    "    \n",
    "    if (low >= high)\n",
    "        return;\n",
    "    \n",
    "    // pick pivot\n",
    "    int middle = low + (high-low)/2;\n",
    "    int pivot = arr[middle];\n",
    "    \n",
    "    // make left < pivot and right > pivot\n",
    "    int i = low, j = high;\n",
    "    while (i <= j) {\n",
    "        while (arr[i] < pivot) {\n",
    "            // find index of value greater than pivot\n",
    "            i++;\n",
    "        }\n",
    "        while (arr[j] > pivot) {\n",
    "            // find index of value less than pivot\n",
    "            j--;\n",
    "        }\n",
    "        \n",
    "        // If the value greater than the pivot is located lower than the value \n",
    "        // less than the pivot, swap them.\n",
    "        if (i <= j) {\n",
    "            int temp = arr[i];\n",
    "            arr[i] = arr[j];\n",
    "            arr[j] = temp;\n",
    "            i++;\n",
    "            j--;\n",
    "        }\n",
    "    }\n",
    "    \n",
    "    // recusively sort two sub parts\n",
    "    if (low < j) \n",
    "        quickSort(arr, low, j);\n",
    "    if (high > i)\n",
    "        quickSort(arr, i, high);\n",
    "    \n",
    "}"
   ]
  },
  {
   "cell_type": "code",
   "execution_count": 15,
   "metadata": {},
   "outputs": [
    {
     "name": "stdout",
     "output_type": "stream",
     "text": [
      "[4, 9, 7, 8, 3, 9, 5, 1, 6]\n",
      "[1, 3, 7, 8, 9, 9, 5, 4, 6]\n",
      "[1, 3, 7, 8, 9, 9, 5, 4, 6]\n",
      "[1, 3, 7, 8, 6, 4, 5, 9, 9]\n",
      "[1, 3, 5, 4, 6, 8, 7, 9, 9]\n",
      "[1, 3, 4, 5, 6, 8, 7, 9, 9]\n",
      "[1, 3, 4, 5, 6, 7, 8, 9, 9]\n",
      "Time: 702ms\n"
     ]
    }
   ],
   "source": [
    "// Sort the data via merge sort:\n",
    "// generateRandomData(data);\n",
    "startTime = System.nanoTime();\n",
    "// System.out.println(\"Before: \" + Arrays.toString(data));\n",
    "quickSort(data.clone(),0, data.length - 1);\n",
    "// System.out.println(\"After: \\t\" + Arrays.toString(data.clone()));\n",
    "endTime = System.nanoTime();\n",
    "quickSortTime = (endTime - startTime) / 100000; //milliseconds\n",
    "System.out.println(\"Time: \" + mergeSortTime + \"ms\");"
   ]
  },
  {
   "cell_type": "code",
   "execution_count": null,
   "metadata": {},
   "outputs": [],
   "source": []
  }
 ],
 "metadata": {
  "kernelspec": {
   "display_name": "Java",
   "language": "java",
   "name": "java"
  },
  "language_info": {
   "codemirror_mode": "java",
   "file_extension": ".jshell",
   "mimetype": "text/x-java-source",
   "name": "Java",
   "pygments_lexer": "java",
   "version": "11.0.3+7-LTS"
  }
 },
 "nbformat": 4,
 "nbformat_minor": 2
}
