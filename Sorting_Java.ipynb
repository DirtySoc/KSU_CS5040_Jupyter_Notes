{
 "cells": [
  {
   "cell_type": "markdown",
   "metadata": {},
   "source": [
    "### Initialization Code"
   ]
  },
  {
   "cell_type": "code",
   "execution_count": 1,
   "metadata": {},
   "outputs": [],
   "source": [
    "// Initialization Code\n",
    "Random rand = new Random();    // Create random number generator.\n",
    "\n",
    "// Set to 10 or less elements to get visual output of each sort method.\n",
    "int numElements = 5;\n",
    "int maxInt = 10;\n",
    "\n",
    "int[] data = new int[numElements];\n",
    "Boolean printOutput = numElements > 10 ? false : true;\n",
    "\n",
    "// Timing parameters.\n",
    "long bubbleSortTime;\n",
    "long insertionSortTime;\n",
    "long selectionSortTime;\n",
    "long improvedSelectionSortTime;\n",
    "long mergeSortTime;\n",
    "long startTime;\n",
    "long endTime;\n",
    "\n",
    "// Generate random data\n",
    "public static void generateRandomData(int[] data) {\n",
    "    for(int i = 0; i < numElements; i++) {\n",
    "        data[i] = rand.nextInt(maxInt);\n",
    "    }\n",
    "}\n",
    "generateRandomData(data);"
   ]
  },
  {
   "cell_type": "markdown",
   "metadata": {},
   "source": [
    "# Simple Sorting Algorithms O(n^2)"
   ]
  },
  {
   "cell_type": "code",
   "execution_count": 2,
   "metadata": {},
   "outputs": [],
   "source": [
    "// Bubble Sort - Slide 6 - Perf Func: 3/4(n^2-n)\n",
    "public static void bubbleSort(int[] data) {   \n",
    "    int n = data.length;\n",
    "    // For every element in the array\n",
    "    for (int i=0; i < n; i++) {\n",
    "        // The last i elements are already sorted\n",
    "        for (int j = 0; j < (n-i-1); j++ ) {\n",
    "            // If the element selected is greater than the next element swap it.\n",
    "            if (data[j] > data[j+1]) {\n",
    "                int temp = data[j];\n",
    "                data[j] = data[j+1];\n",
    "                data[j+1] = temp;\n",
    "            }\n",
    "            if (printOutput)\n",
    "                System.out.println(\"i: \" + i + \" j: \" + j + \" data: \" + Arrays.toString(data));\n",
    "        }\n",
    "    }\n",
    "};"
   ]
  },
  {
   "cell_type": "code",
   "execution_count": 3,
   "metadata": {},
   "outputs": [
    {
     "name": "stdout",
     "output_type": "stream",
     "text": [
      "i: 0 j: 0 data: [9, 9, 4, 8, 9]\n",
      "i: 0 j: 1 data: [9, 4, 9, 8, 9]\n",
      "i: 0 j: 2 data: [9, 4, 8, 9, 9]\n",
      "i: 0 j: 3 data: [9, 4, 8, 9, 9]\n",
      "i: 1 j: 0 data: [4, 9, 8, 9, 9]\n",
      "i: 1 j: 1 data: [4, 8, 9, 9, 9]\n",
      "i: 1 j: 2 data: [4, 8, 9, 9, 9]\n",
      "i: 2 j: 0 data: [4, 8, 9, 9, 9]\n",
      "i: 2 j: 1 data: [4, 8, 9, 9, 9]\n",
      "i: 3 j: 0 data: [4, 8, 9, 9, 9]\n"
     ]
    }
   ],
   "source": [
    "// Pre-load the sort for more accurate time comp at end? Maybe?\n",
    "bubbleSort(data.clone());"
   ]
  },
  {
   "cell_type": "code",
   "execution_count": 4,
   "metadata": {},
   "outputs": [
    {
     "name": "stdout",
     "output_type": "stream",
     "text": [
      "i: 0 j: 0 data: [9, 9, 4, 8, 9]\n",
      "i: 0 j: 1 data: [9, 4, 9, 8, 9]\n",
      "i: 0 j: 2 data: [9, 4, 8, 9, 9]\n",
      "i: 0 j: 3 data: [9, 4, 8, 9, 9]\n",
      "i: 1 j: 0 data: [4, 9, 8, 9, 9]\n",
      "i: 1 j: 1 data: [4, 8, 9, 9, 9]\n",
      "i: 1 j: 2 data: [4, 8, 9, 9, 9]\n",
      "i: 2 j: 0 data: [4, 8, 9, 9, 9]\n",
      "i: 2 j: 1 data: [4, 8, 9, 9, 9]\n",
      "i: 3 j: 0 data: [4, 8, 9, 9, 9]\n"
     ]
    }
   ],
   "source": [
    "// Sort the data via bubble sort:\n",
    "// generateRandomData(data);\n",
    "startTime = System.nanoTime();\n",
    "bubbleSort(data.clone());\n",
    "endTime = System.nanoTime();\n",
    "bubbleSortTime = (endTime - startTime) / 100000; //milliseconds"
   ]
  },
  {
   "cell_type": "code",
   "execution_count": 5,
   "metadata": {},
   "outputs": [],
   "source": [
    "// Insertion Sort - Slide 9 - Perf Func: 1/2(n^2-n)\n",
    "public static void insertionSort(int[] data) {\n",
    "    int i = 1;\n",
    "    while (i < data.length) {\n",
    "        int j = i;\n",
    "        while (j > 0) {\n",
    "            if (data[j-1] > data[j]) {\n",
    "                int temp = data[j];\n",
    "                data[j] = data[j-1];\n",
    "                data[j-1] = temp;\n",
    "            }\n",
    "            if (printOutput)\n",
    "                System.out.println(\"i:\" + i + \" j:\" + j + \" data:\" + Arrays.toString(data));\n",
    "            j--;\n",
    "        }\n",
    "        i++;\n",
    "    }\n",
    "}"
   ]
  },
  {
   "cell_type": "code",
   "execution_count": 6,
   "metadata": {},
   "outputs": [
    {
     "name": "stdout",
     "output_type": "stream",
     "text": [
      "i:1 j:1 data:[9, 9, 4, 8, 9]\n",
      "i:2 j:2 data:[9, 4, 9, 8, 9]\n",
      "i:2 j:1 data:[4, 9, 9, 8, 9]\n",
      "i:3 j:3 data:[4, 9, 8, 9, 9]\n",
      "i:3 j:2 data:[4, 8, 9, 9, 9]\n",
      "i:3 j:1 data:[4, 8, 9, 9, 9]\n",
      "i:4 j:4 data:[4, 8, 9, 9, 9]\n",
      "i:4 j:3 data:[4, 8, 9, 9, 9]\n",
      "i:4 j:2 data:[4, 8, 9, 9, 9]\n",
      "i:4 j:1 data:[4, 8, 9, 9, 9]\n"
     ]
    }
   ],
   "source": [
    "// Sort the data via insertion sort:\n",
    "// generateRandomData(data);\n",
    "startTime = System.nanoTime();\n",
    "insertionSort(data.clone());\n",
    "endTime = System.nanoTime();\n",
    "insertionSortTime = (endTime - startTime) / 100000; //milliseconds"
   ]
  },
  {
   "cell_type": "code",
   "execution_count": 7,
   "metadata": {},
   "outputs": [],
   "source": [
    "// Selection Sort - Slide 13 - Perf Func: 3/4(n^2-n)\n",
    "public static void selectionSort(int[] data) {\n",
    "    for (int i = 0; i < data.length; i++) {\n",
    "        for (int j = i + 1; j < data.length; j++) {\n",
    "           if (data[j] < data[i]) {\n",
    "               int temp = data[j];\n",
    "               data[j] = data[i];\n",
    "               data[i] = temp;\n",
    "           }\n",
    "            if (printOutput)\n",
    "                System.out.println(\"i:\" + i + \" j:\" + j + \" data:\" + Arrays.toString(data));\n",
    "        }\n",
    "    }\n",
    "}"
   ]
  },
  {
   "cell_type": "code",
   "execution_count": 8,
   "metadata": {},
   "outputs": [
    {
     "name": "stdout",
     "output_type": "stream",
     "text": [
      "i:0 j:1 data:[9, 9, 4, 8, 9]\n",
      "i:0 j:2 data:[4, 9, 9, 8, 9]\n",
      "i:0 j:3 data:[4, 9, 9, 8, 9]\n",
      "i:0 j:4 data:[4, 9, 9, 8, 9]\n",
      "i:1 j:2 data:[4, 9, 9, 8, 9]\n",
      "i:1 j:3 data:[4, 8, 9, 9, 9]\n",
      "i:1 j:4 data:[4, 8, 9, 9, 9]\n",
      "i:2 j:3 data:[4, 8, 9, 9, 9]\n",
      "i:2 j:4 data:[4, 8, 9, 9, 9]\n",
      "i:3 j:4 data:[4, 8, 9, 9, 9]\n"
     ]
    }
   ],
   "source": [
    "// Sort the data via selection sort:\n",
    "// generateRandomData(data);\n",
    "startTime = System.nanoTime();\n",
    "selectionSort(data.clone());\n",
    "endTime = System.nanoTime();\n",
    "selectionSortTime = (endTime - startTime) / 100000; //milliseconds"
   ]
  },
  {
   "cell_type": "code",
   "execution_count": 9,
   "metadata": {},
   "outputs": [],
   "source": [
    "// Improved Selection Sort - Slide 16 - Perf Func: 1/2(n^2-n)\n",
    "public static void improvedSelectionSort(int[] data) {\n",
    "    int position;\n",
    "    for (int i = 0; i < data.length; i++) {\n",
    "        position = i;\n",
    "        for (int j = i + 1; j < data.length; j++) {\n",
    "           if (data[j] < data[i]) {\n",
    "                position = j;\n",
    "           }\n",
    "            if (printOutput)\n",
    "                System.out.println(\"i:\" + i + \" j:\" + j + \" data:\" + Arrays.toString(data));\n",
    "        }\n",
    "        int temp = data[position];\n",
    "        data[position] = data[i];\n",
    "        data[position] = temp;\n",
    "    }\n",
    "}"
   ]
  },
  {
   "cell_type": "code",
   "execution_count": 10,
   "metadata": {},
   "outputs": [
    {
     "name": "stdout",
     "output_type": "stream",
     "text": [
      "i:0 j:1 data:[9, 9, 4, 8, 9]\n",
      "i:0 j:2 data:[9, 9, 4, 8, 9]\n",
      "i:0 j:3 data:[9, 9, 4, 8, 9]\n",
      "i:0 j:4 data:[9, 9, 4, 8, 9]\n",
      "i:1 j:2 data:[9, 9, 4, 8, 9]\n",
      "i:1 j:3 data:[9, 9, 4, 8, 9]\n",
      "i:1 j:4 data:[9, 9, 4, 8, 9]\n",
      "i:2 j:3 data:[9, 9, 4, 8, 9]\n",
      "i:2 j:4 data:[9, 9, 4, 8, 9]\n",
      "i:3 j:4 data:[9, 9, 4, 8, 9]\n"
     ]
    }
   ],
   "source": [
    "// Sort the data via improved selection sort:\n",
    "// generateRandomData(data);\n",
    "startTime = System.nanoTime();\n",
    "improvedSelectionSort(data.clone());\n",
    "endTime = System.nanoTime();\n",
    "improvedSelectionSortTime = (endTime - startTime) / 100000; //milliseconds"
   ]
  },
  {
   "cell_type": "code",
   "execution_count": 11,
   "metadata": {},
   "outputs": [
    {
     "name": "stdout",
     "output_type": "stream",
     "text": [
      "Here are your results:\n",
      "\tBubble Sort: \t\t\t441ms\n",
      "\tInsert Sort: \t\t\t477ms\n",
      "\tSelection Sort: \t\t328ms\n",
      "\tImproved Selection Sort: \t340ms\n"
     ]
    }
   ],
   "source": [
    "System.out.println(\"Here are your results:\");\n",
    "System.out.println(\"\\tBubble Sort: \\t\\t\\t\" + bubbleSortTime + \"ms\");\n",
    "System.out.println(\"\\tInsert Sort: \\t\\t\\t\" + insertionSortTime + \"ms\");\n",
    "System.out.println(\"\\tSelection Sort: \\t\\t\" + selectionSortTime + \"ms\");\n",
    "System.out.println(\"\\tImproved Selection Sort: \\t\" + improvedSelectionSortTime + \"ms\");"
   ]
  },
  {
   "cell_type": "markdown",
   "metadata": {},
   "source": [
    "# Advanced Sorting Algorithms O(nLogn)"
   ]
  },
  {
   "cell_type": "code",
   "execution_count": 12,
   "metadata": {},
   "outputs": [],
   "source": [
    "// Merge Sort - Slide 3\n",
    "public static int[] mergeSort(int[] data) {\n",
    "    // If the array is only one element, return that element.\n",
    "    if (data.length <= 1) {\n",
    "        return data;\n",
    "    }\n",
    "    \n",
    "    int[] firstHalf = new int[data.length / 2];\n",
    "    int[] secondHalf = new int[data.length - firstHalf.length];\n",
    "    System.arraycopy(data, 0, firstHalf, 0, firstHalf.length);\n",
    "    System.arraycopy(data, firstHalf.length, secondHalf, 0, secondHalf.length);\n",
    "    \n",
    "    // Recursively sort each half.\n",
    "    mergeSort(firstHalf);\n",
    "    mergeSort(secondHalf);\n",
    "    \n",
    "    // merge both halves together, overwriting original array.\n",
    "    // Define indexs for each array\n",
    "    int iFirst = 0;\n",
    "    int iSecond = 0;\n",
    "    int iData = 0;\n",
    "    \n",
    "    // Compare elements at iFirst and iSecond. \n",
    "    // Move smaller element to iData;\n",
    "    while (iFirst < firstHalf.length && iSecond < secondHalf.length) {\n",
    "        if (firstHalf[iFirst] < secondHalf[iSecond]) {\n",
    "            data[iData] = firstHalf[iFirst];\n",
    "            iFirst++;\n",
    "        } else {\n",
    "            data[iData] = secondHalf[iSecond];\n",
    "            iSecond++;\n",
    "        }\n",
    "        iData++;\n",
    "    }\n",
    "    // Copy remaining elements from both halves - each half will have already sorted elements.\n",
    "    System.arraycopy(firstHalf, iFirst, data, iData, firstHalf.length - iFirst);\n",
    "    System.arraycopy(secondHalf, iSecond, data, iData, secondHalf.length - iSecond);\n",
    "    \n",
    "    return data;\n",
    "}"
   ]
  },
  {
   "cell_type": "code",
   "execution_count": 13,
   "metadata": {},
   "outputs": [
    {
     "name": "stdout",
     "output_type": "stream",
     "text": [
      "Before: [9, 9, 4, 8, 9]\n",
      "After: \t[4, 8, 9, 9, 9]\n",
      "Time: 440ms\n"
     ]
    }
   ],
   "source": [
    "// Sort the data via merge sort:\n",
    "// generateRandomData(data);\n",
    "startTime = System.nanoTime();\n",
    "System.out.println(\"Before: \" + Arrays.toString(data));\n",
    "System.out.println(\"After: \\t\" + Arrays.toString(mergeSort(data.clone())));\n",
    "endTime = System.nanoTime();\n",
    "mergeSortTime = (endTime - startTime) / 100000; //milliseconds\n",
    "System.out.println(\"Time: \" + mergeSortTime + \"ms\");"
   ]
  },
  {
   "cell_type": "code",
   "execution_count": null,
   "metadata": {},
   "outputs": [],
   "source": []
  }
 ],
 "metadata": {
  "kernelspec": {
   "display_name": "Java",
   "language": "java",
   "name": "java"
  },
  "language_info": {
   "codemirror_mode": "java",
   "file_extension": ".jshell",
   "mimetype": "text/x-java-source",
   "name": "Java",
   "pygments_lexer": "java",
   "version": "11.0.3+7-LTS"
  }
 },
 "nbformat": 4,
 "nbformat_minor": 2
}
